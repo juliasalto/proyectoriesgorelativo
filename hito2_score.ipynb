{
  "nbformat": 4,
  "nbformat_minor": 0,
  "metadata": {
    "colab": {
      "provenance": []
    },
    "kernelspec": {
      "name": "python3",
      "display_name": "Python 3"
    },
    "language_info": {
      "name": "python"
    }
  },
  "cells": [
    {
      "cell_type": "markdown",
      "source": [
        "# Hito 2\n",
        "*sólo variables de hipótesis*\n",
        "\n"
      ],
      "metadata": {
        "id": "hiTLFF1vTX-x"
      }
    },
    {
      "cell_type": "code",
      "execution_count": 1,
      "metadata": {
        "id": "ucszukumTVJA"
      },
      "outputs": [],
      "source": [
        "import pandas as pd\n",
        "import seaborn as sns\n",
        "\n",
        "from scipy import stats\n",
        "import numpy as np\n",
        "\n",
        "from google.colab import auth\n",
        "from google.cloud import bigquery"
      ]
    },
    {
      "cell_type": "code",
      "source": [
        "auth.authenticate_user()\n",
        "\n",
        "project_id = 'saltoproyecto3'\n",
        "client = bigquery.Client(project=project_id)\n",
        "\n",
        "query = \"\"\"\n",
        "SELECT *\n",
        "FROM `saltoproyecto3.riesgorelativo.combined_view_1`\n",
        "\"\"\"\n",
        "\n",
        "query_job = client.query(query)\n",
        "\n",
        "df = query_job.to_dataframe()\n",
        "\n",
        "df.head()"
      ],
      "metadata": {
        "id": "dOHYX2DQTuwl",
        "colab": {
          "base_uri": "https://localhost:8080/",
          "height": 226
        },
        "outputId": "2f50ede8-249a-4dff-87a4-52184cf53f6c"
      },
      "execution_count": 2,
      "outputs": [
        {
          "output_type": "execute_result",
          "data": {
            "text/plain": [
              "   user_id  number_dependents  age  last_month_salary   category generation  \\\n",
              "0    19807                  0   23               2500  bad_payer         q1   \n",
              "1    29366                  0   24                620  bad_payer         q1   \n",
              "2    35241                  0   24               2500  bad_payer         q1   \n",
              "3     1460                  0   25               3800  bad_payer         q1   \n",
              "4     2554                  0   25                974  bad_payer         q1   \n",
              "\n",
              "   default_flag  more_90_days_overdue  \\\n",
              "0             1                     1   \n",
              "1             1                     1   \n",
              "2             1                     1   \n",
              "3             1                     1   \n",
              "4             1                     1   \n",
              "\n",
              "   using_lines_not_secured_personal_assets  \\\n",
              "0                                 1.155528   \n",
              "1                                 1.245902   \n",
              "2                                 1.000000   \n",
              "3                                 1.057648   \n",
              "4                                 2.638723   \n",
              "\n",
              "   number_times_delayed_payment_loan_30_59_days  debt_ratio  \\\n",
              "0                                             1  687.000000   \n",
              "1                                             1    0.935588   \n",
              "2                                             1  286.000000   \n",
              "3                                             1    0.102605   \n",
              "4                                             1    0.521026   \n",
              "\n",
              "   number_times_delayed_payment_loan_60_89_days  loan_count  real_estate  \\\n",
              "0                                             1           3            0   \n",
              "1                                             1           3            0   \n",
              "2                                             0           1            0   \n",
              "3                                             1           4            0   \n",
              "4                                             1           4            0   \n",
              "\n",
              "   others loan_group m9do_group dr_group ulnspa_group  \n",
              "0       3         q1         q2       q4           q4  \n",
              "1       3         q1         q2       q3           q4  \n",
              "2       1         q1         q2       q4           q4  \n",
              "3       4         q1         q2       q1           q4  \n",
              "4       4         q1         q2       q3           q4  "
            ],
            "text/html": [
              "\n",
              "  <div id=\"df-975bbf0a-6f9d-4c86-b2fd-769ef84b7249\" class=\"colab-df-container\">\n",
              "    <div>\n",
              "<style scoped>\n",
              "    .dataframe tbody tr th:only-of-type {\n",
              "        vertical-align: middle;\n",
              "    }\n",
              "\n",
              "    .dataframe tbody tr th {\n",
              "        vertical-align: top;\n",
              "    }\n",
              "\n",
              "    .dataframe thead th {\n",
              "        text-align: right;\n",
              "    }\n",
              "</style>\n",
              "<table border=\"1\" class=\"dataframe\">\n",
              "  <thead>\n",
              "    <tr style=\"text-align: right;\">\n",
              "      <th></th>\n",
              "      <th>user_id</th>\n",
              "      <th>number_dependents</th>\n",
              "      <th>age</th>\n",
              "      <th>last_month_salary</th>\n",
              "      <th>category</th>\n",
              "      <th>generation</th>\n",
              "      <th>default_flag</th>\n",
              "      <th>more_90_days_overdue</th>\n",
              "      <th>using_lines_not_secured_personal_assets</th>\n",
              "      <th>number_times_delayed_payment_loan_30_59_days</th>\n",
              "      <th>debt_ratio</th>\n",
              "      <th>number_times_delayed_payment_loan_60_89_days</th>\n",
              "      <th>loan_count</th>\n",
              "      <th>real_estate</th>\n",
              "      <th>others</th>\n",
              "      <th>loan_group</th>\n",
              "      <th>m9do_group</th>\n",
              "      <th>dr_group</th>\n",
              "      <th>ulnspa_group</th>\n",
              "    </tr>\n",
              "  </thead>\n",
              "  <tbody>\n",
              "    <tr>\n",
              "      <th>0</th>\n",
              "      <td>19807</td>\n",
              "      <td>0</td>\n",
              "      <td>23</td>\n",
              "      <td>2500</td>\n",
              "      <td>bad_payer</td>\n",
              "      <td>q1</td>\n",
              "      <td>1</td>\n",
              "      <td>1</td>\n",
              "      <td>1.155528</td>\n",
              "      <td>1</td>\n",
              "      <td>687.000000</td>\n",
              "      <td>1</td>\n",
              "      <td>3</td>\n",
              "      <td>0</td>\n",
              "      <td>3</td>\n",
              "      <td>q1</td>\n",
              "      <td>q2</td>\n",
              "      <td>q4</td>\n",
              "      <td>q4</td>\n",
              "    </tr>\n",
              "    <tr>\n",
              "      <th>1</th>\n",
              "      <td>29366</td>\n",
              "      <td>0</td>\n",
              "      <td>24</td>\n",
              "      <td>620</td>\n",
              "      <td>bad_payer</td>\n",
              "      <td>q1</td>\n",
              "      <td>1</td>\n",
              "      <td>1</td>\n",
              "      <td>1.245902</td>\n",
              "      <td>1</td>\n",
              "      <td>0.935588</td>\n",
              "      <td>1</td>\n",
              "      <td>3</td>\n",
              "      <td>0</td>\n",
              "      <td>3</td>\n",
              "      <td>q1</td>\n",
              "      <td>q2</td>\n",
              "      <td>q3</td>\n",
              "      <td>q4</td>\n",
              "    </tr>\n",
              "    <tr>\n",
              "      <th>2</th>\n",
              "      <td>35241</td>\n",
              "      <td>0</td>\n",
              "      <td>24</td>\n",
              "      <td>2500</td>\n",
              "      <td>bad_payer</td>\n",
              "      <td>q1</td>\n",
              "      <td>1</td>\n",
              "      <td>1</td>\n",
              "      <td>1.000000</td>\n",
              "      <td>1</td>\n",
              "      <td>286.000000</td>\n",
              "      <td>0</td>\n",
              "      <td>1</td>\n",
              "      <td>0</td>\n",
              "      <td>1</td>\n",
              "      <td>q1</td>\n",
              "      <td>q2</td>\n",
              "      <td>q4</td>\n",
              "      <td>q4</td>\n",
              "    </tr>\n",
              "    <tr>\n",
              "      <th>3</th>\n",
              "      <td>1460</td>\n",
              "      <td>0</td>\n",
              "      <td>25</td>\n",
              "      <td>3800</td>\n",
              "      <td>bad_payer</td>\n",
              "      <td>q1</td>\n",
              "      <td>1</td>\n",
              "      <td>1</td>\n",
              "      <td>1.057648</td>\n",
              "      <td>1</td>\n",
              "      <td>0.102605</td>\n",
              "      <td>1</td>\n",
              "      <td>4</td>\n",
              "      <td>0</td>\n",
              "      <td>4</td>\n",
              "      <td>q1</td>\n",
              "      <td>q2</td>\n",
              "      <td>q1</td>\n",
              "      <td>q4</td>\n",
              "    </tr>\n",
              "    <tr>\n",
              "      <th>4</th>\n",
              "      <td>2554</td>\n",
              "      <td>0</td>\n",
              "      <td>25</td>\n",
              "      <td>974</td>\n",
              "      <td>bad_payer</td>\n",
              "      <td>q1</td>\n",
              "      <td>1</td>\n",
              "      <td>1</td>\n",
              "      <td>2.638723</td>\n",
              "      <td>1</td>\n",
              "      <td>0.521026</td>\n",
              "      <td>1</td>\n",
              "      <td>4</td>\n",
              "      <td>0</td>\n",
              "      <td>4</td>\n",
              "      <td>q1</td>\n",
              "      <td>q2</td>\n",
              "      <td>q3</td>\n",
              "      <td>q4</td>\n",
              "    </tr>\n",
              "  </tbody>\n",
              "</table>\n",
              "</div>\n",
              "    <div class=\"colab-df-buttons\">\n",
              "\n",
              "  <div class=\"colab-df-container\">\n",
              "    <button class=\"colab-df-convert\" onclick=\"convertToInteractive('df-975bbf0a-6f9d-4c86-b2fd-769ef84b7249')\"\n",
              "            title=\"Convert this dataframe to an interactive table.\"\n",
              "            style=\"display:none;\">\n",
              "\n",
              "  <svg xmlns=\"http://www.w3.org/2000/svg\" height=\"24px\" viewBox=\"0 -960 960 960\">\n",
              "    <path d=\"M120-120v-720h720v720H120Zm60-500h600v-160H180v160Zm220 220h160v-160H400v160Zm0 220h160v-160H400v160ZM180-400h160v-160H180v160Zm440 0h160v-160H620v160ZM180-180h160v-160H180v160Zm440 0h160v-160H620v160Z\"/>\n",
              "  </svg>\n",
              "    </button>\n",
              "\n",
              "  <style>\n",
              "    .colab-df-container {\n",
              "      display:flex;\n",
              "      gap: 12px;\n",
              "    }\n",
              "\n",
              "    .colab-df-convert {\n",
              "      background-color: #E8F0FE;\n",
              "      border: none;\n",
              "      border-radius: 50%;\n",
              "      cursor: pointer;\n",
              "      display: none;\n",
              "      fill: #1967D2;\n",
              "      height: 32px;\n",
              "      padding: 0 0 0 0;\n",
              "      width: 32px;\n",
              "    }\n",
              "\n",
              "    .colab-df-convert:hover {\n",
              "      background-color: #E2EBFA;\n",
              "      box-shadow: 0px 1px 2px rgba(60, 64, 67, 0.3), 0px 1px 3px 1px rgba(60, 64, 67, 0.15);\n",
              "      fill: #174EA6;\n",
              "    }\n",
              "\n",
              "    .colab-df-buttons div {\n",
              "      margin-bottom: 4px;\n",
              "    }\n",
              "\n",
              "    [theme=dark] .colab-df-convert {\n",
              "      background-color: #3B4455;\n",
              "      fill: #D2E3FC;\n",
              "    }\n",
              "\n",
              "    [theme=dark] .colab-df-convert:hover {\n",
              "      background-color: #434B5C;\n",
              "      box-shadow: 0px 1px 3px 1px rgba(0, 0, 0, 0.15);\n",
              "      filter: drop-shadow(0px 1px 2px rgba(0, 0, 0, 0.3));\n",
              "      fill: #FFFFFF;\n",
              "    }\n",
              "  </style>\n",
              "\n",
              "    <script>\n",
              "      const buttonEl =\n",
              "        document.querySelector('#df-975bbf0a-6f9d-4c86-b2fd-769ef84b7249 button.colab-df-convert');\n",
              "      buttonEl.style.display =\n",
              "        google.colab.kernel.accessAllowed ? 'block' : 'none';\n",
              "\n",
              "      async function convertToInteractive(key) {\n",
              "        const element = document.querySelector('#df-975bbf0a-6f9d-4c86-b2fd-769ef84b7249');\n",
              "        const dataTable =\n",
              "          await google.colab.kernel.invokeFunction('convertToInteractive',\n",
              "                                                    [key], {});\n",
              "        if (!dataTable) return;\n",
              "\n",
              "        const docLinkHtml = 'Like what you see? Visit the ' +\n",
              "          '<a target=\"_blank\" href=https://colab.research.google.com/notebooks/data_table.ipynb>data table notebook</a>'\n",
              "          + ' to learn more about interactive tables.';\n",
              "        element.innerHTML = '';\n",
              "        dataTable['output_type'] = 'display_data';\n",
              "        await google.colab.output.renderOutput(dataTable, element);\n",
              "        const docLink = document.createElement('div');\n",
              "        docLink.innerHTML = docLinkHtml;\n",
              "        element.appendChild(docLink);\n",
              "      }\n",
              "    </script>\n",
              "  </div>\n",
              "\n",
              "\n",
              "<div id=\"df-6db53e44-5d4b-448c-b26d-35b071d5fe1e\">\n",
              "  <button class=\"colab-df-quickchart\" onclick=\"quickchart('df-6db53e44-5d4b-448c-b26d-35b071d5fe1e')\"\n",
              "            title=\"Suggest charts\"\n",
              "            style=\"display:none;\">\n",
              "\n",
              "<svg xmlns=\"http://www.w3.org/2000/svg\" height=\"24px\"viewBox=\"0 0 24 24\"\n",
              "     width=\"24px\">\n",
              "    <g>\n",
              "        <path d=\"M19 3H5c-1.1 0-2 .9-2 2v14c0 1.1.9 2 2 2h14c1.1 0 2-.9 2-2V5c0-1.1-.9-2-2-2zM9 17H7v-7h2v7zm4 0h-2V7h2v10zm4 0h-2v-4h2v4z\"/>\n",
              "    </g>\n",
              "</svg>\n",
              "  </button>\n",
              "\n",
              "<style>\n",
              "  .colab-df-quickchart {\n",
              "      --bg-color: #E8F0FE;\n",
              "      --fill-color: #1967D2;\n",
              "      --hover-bg-color: #E2EBFA;\n",
              "      --hover-fill-color: #174EA6;\n",
              "      --disabled-fill-color: #AAA;\n",
              "      --disabled-bg-color: #DDD;\n",
              "  }\n",
              "\n",
              "  [theme=dark] .colab-df-quickchart {\n",
              "      --bg-color: #3B4455;\n",
              "      --fill-color: #D2E3FC;\n",
              "      --hover-bg-color: #434B5C;\n",
              "      --hover-fill-color: #FFFFFF;\n",
              "      --disabled-bg-color: #3B4455;\n",
              "      --disabled-fill-color: #666;\n",
              "  }\n",
              "\n",
              "  .colab-df-quickchart {\n",
              "    background-color: var(--bg-color);\n",
              "    border: none;\n",
              "    border-radius: 50%;\n",
              "    cursor: pointer;\n",
              "    display: none;\n",
              "    fill: var(--fill-color);\n",
              "    height: 32px;\n",
              "    padding: 0;\n",
              "    width: 32px;\n",
              "  }\n",
              "\n",
              "  .colab-df-quickchart:hover {\n",
              "    background-color: var(--hover-bg-color);\n",
              "    box-shadow: 0 1px 2px rgba(60, 64, 67, 0.3), 0 1px 3px 1px rgba(60, 64, 67, 0.15);\n",
              "    fill: var(--button-hover-fill-color);\n",
              "  }\n",
              "\n",
              "  .colab-df-quickchart-complete:disabled,\n",
              "  .colab-df-quickchart-complete:disabled:hover {\n",
              "    background-color: var(--disabled-bg-color);\n",
              "    fill: var(--disabled-fill-color);\n",
              "    box-shadow: none;\n",
              "  }\n",
              "\n",
              "  .colab-df-spinner {\n",
              "    border: 2px solid var(--fill-color);\n",
              "    border-color: transparent;\n",
              "    border-bottom-color: var(--fill-color);\n",
              "    animation:\n",
              "      spin 1s steps(1) infinite;\n",
              "  }\n",
              "\n",
              "  @keyframes spin {\n",
              "    0% {\n",
              "      border-color: transparent;\n",
              "      border-bottom-color: var(--fill-color);\n",
              "      border-left-color: var(--fill-color);\n",
              "    }\n",
              "    20% {\n",
              "      border-color: transparent;\n",
              "      border-left-color: var(--fill-color);\n",
              "      border-top-color: var(--fill-color);\n",
              "    }\n",
              "    30% {\n",
              "      border-color: transparent;\n",
              "      border-left-color: var(--fill-color);\n",
              "      border-top-color: var(--fill-color);\n",
              "      border-right-color: var(--fill-color);\n",
              "    }\n",
              "    40% {\n",
              "      border-color: transparent;\n",
              "      border-right-color: var(--fill-color);\n",
              "      border-top-color: var(--fill-color);\n",
              "    }\n",
              "    60% {\n",
              "      border-color: transparent;\n",
              "      border-right-color: var(--fill-color);\n",
              "    }\n",
              "    80% {\n",
              "      border-color: transparent;\n",
              "      border-right-color: var(--fill-color);\n",
              "      border-bottom-color: var(--fill-color);\n",
              "    }\n",
              "    90% {\n",
              "      border-color: transparent;\n",
              "      border-bottom-color: var(--fill-color);\n",
              "    }\n",
              "  }\n",
              "</style>\n",
              "\n",
              "  <script>\n",
              "    async function quickchart(key) {\n",
              "      const quickchartButtonEl =\n",
              "        document.querySelector('#' + key + ' button');\n",
              "      quickchartButtonEl.disabled = true;  // To prevent multiple clicks.\n",
              "      quickchartButtonEl.classList.add('colab-df-spinner');\n",
              "      try {\n",
              "        const charts = await google.colab.kernel.invokeFunction(\n",
              "            'suggestCharts', [key], {});\n",
              "      } catch (error) {\n",
              "        console.error('Error during call to suggestCharts:', error);\n",
              "      }\n",
              "      quickchartButtonEl.classList.remove('colab-df-spinner');\n",
              "      quickchartButtonEl.classList.add('colab-df-quickchart-complete');\n",
              "    }\n",
              "    (() => {\n",
              "      let quickchartButtonEl =\n",
              "        document.querySelector('#df-6db53e44-5d4b-448c-b26d-35b071d5fe1e button');\n",
              "      quickchartButtonEl.style.display =\n",
              "        google.colab.kernel.accessAllowed ? 'block' : 'none';\n",
              "    })();\n",
              "  </script>\n",
              "</div>\n",
              "\n",
              "    </div>\n",
              "  </div>\n"
            ],
            "application/vnd.google.colaboratory.intrinsic+json": {
              "type": "dataframe",
              "variable_name": "df",
              "summary": "{\n  \"name\": \"df\",\n  \"rows\": 32586,\n  \"fields\": [\n    {\n      \"column\": \"user_id\",\n      \"properties\": {\n        \"dtype\": \"Int64\",\n        \"num_unique_values\": 32586,\n        \"samples\": [\n          6562,\n          30267,\n          12683\n        ],\n        \"semantic_type\": \"\",\n        \"description\": \"\"\n      }\n    },\n    {\n      \"column\": \"number_dependents\",\n      \"properties\": {\n        \"dtype\": \"Int64\",\n        \"num_unique_values\": 12,\n        \"samples\": [\n          10,\n          9,\n          0\n        ],\n        \"semantic_type\": \"\",\n        \"description\": \"\"\n      }\n    },\n    {\n      \"column\": \"age\",\n      \"properties\": {\n        \"dtype\": \"Int64\",\n        \"num_unique_values\": 74,\n        \"samples\": [\n          27,\n          82,\n          41\n        ],\n        \"semantic_type\": \"\",\n        \"description\": \"\"\n      }\n    },\n    {\n      \"column\": \"last_month_salary\",\n      \"properties\": {\n        \"dtype\": \"Int64\",\n        \"num_unique_values\": 6275,\n        \"samples\": [\n          7855,\n          8536,\n          7358\n        ],\n        \"semantic_type\": \"\",\n        \"description\": \"\"\n      }\n    },\n    {\n      \"column\": \"category\",\n      \"properties\": {\n        \"dtype\": \"category\",\n        \"num_unique_values\": 2,\n        \"samples\": [\n          \"good_payer\",\n          \"bad_payer\"\n        ],\n        \"semantic_type\": \"\",\n        \"description\": \"\"\n      }\n    },\n    {\n      \"column\": \"generation\",\n      \"properties\": {\n        \"dtype\": \"category\",\n        \"num_unique_values\": 4,\n        \"samples\": [\n          \"q2\",\n          \"q4\"\n        ],\n        \"semantic_type\": \"\",\n        \"description\": \"\"\n      }\n    },\n    {\n      \"column\": \"default_flag\",\n      \"properties\": {\n        \"dtype\": \"Int64\",\n        \"num_unique_values\": 2,\n        \"samples\": [\n          0,\n          1\n        ],\n        \"semantic_type\": \"\",\n        \"description\": \"\"\n      }\n    },\n    {\n      \"column\": \"more_90_days_overdue\",\n      \"properties\": {\n        \"dtype\": \"Int64\",\n        \"num_unique_values\": 15,\n        \"samples\": [\n          5,\n          8\n        ],\n        \"semantic_type\": \"\",\n        \"description\": \"\"\n      }\n    },\n    {\n      \"column\": \"using_lines_not_secured_personal_assets\",\n      \"properties\": {\n        \"dtype\": \"number\",\n        \"std\": 217.45653250062975,\n        \"min\": 0.0,\n        \"max\": 22000.0,\n        \"num_unique_values\": 28031,\n        \"samples\": [\n          0.009075503,\n          0.014852483\n        ],\n        \"semantic_type\": \"\",\n        \"description\": \"\"\n      }\n    },\n    {\n      \"column\": \"number_times_delayed_payment_loan_30_59_days\",\n      \"properties\": {\n        \"dtype\": \"Int64\",\n        \"num_unique_values\": 12,\n        \"samples\": [\n          9,\n          8\n        ],\n        \"semantic_type\": \"\",\n        \"description\": \"\"\n      }\n    },\n    {\n      \"column\": \"debt_ratio\",\n      \"properties\": {\n        \"dtype\": \"number\",\n        \"std\": 2091.65205477379,\n        \"min\": 0.0,\n        \"max\": 307001.0,\n        \"num_unique_values\": 27670,\n        \"samples\": [\n          0.484321476,\n          0.813046738\n        ],\n        \"semantic_type\": \"\",\n        \"description\": \"\"\n      }\n    },\n    {\n      \"column\": \"number_times_delayed_payment_loan_60_89_days\",\n      \"properties\": {\n        \"dtype\": \"Int64\",\n        \"num_unique_values\": 7,\n        \"samples\": [\n          1,\n          0\n        ],\n        \"semantic_type\": \"\",\n        \"description\": \"\"\n      }\n    },\n    {\n      \"column\": \"loan_count\",\n      \"properties\": {\n        \"dtype\": \"Int64\",\n        \"num_unique_values\": 20,\n        \"samples\": [\n          3,\n          17\n        ],\n        \"semantic_type\": \"\",\n        \"description\": \"\"\n      }\n    },\n    {\n      \"column\": \"real_estate\",\n      \"properties\": {\n        \"dtype\": \"Int64\",\n        \"num_unique_values\": 1,\n        \"samples\": [\n          0\n        ],\n        \"semantic_type\": \"\",\n        \"description\": \"\"\n      }\n    },\n    {\n      \"column\": \"others\",\n      \"properties\": {\n        \"dtype\": \"Int64\",\n        \"num_unique_values\": 20,\n        \"samples\": [\n          3\n        ],\n        \"semantic_type\": \"\",\n        \"description\": \"\"\n      }\n    },\n    {\n      \"column\": \"loan_group\",\n      \"properties\": {\n        \"dtype\": \"category\",\n        \"num_unique_values\": 4,\n        \"samples\": [\n          \"q2\"\n        ],\n        \"semantic_type\": \"\",\n        \"description\": \"\"\n      }\n    },\n    {\n      \"column\": \"m9do_group\",\n      \"properties\": {\n        \"dtype\": \"category\",\n        \"num_unique_values\": 5,\n        \"samples\": [\n          \"q1\"\n        ],\n        \"semantic_type\": \"\",\n        \"description\": \"\"\n      }\n    },\n    {\n      \"column\": \"dr_group\",\n      \"properties\": {\n        \"dtype\": \"category\",\n        \"num_unique_values\": 4,\n        \"samples\": [\n          \"q3\"\n        ],\n        \"semantic_type\": \"\",\n        \"description\": \"\"\n      }\n    },\n    {\n      \"column\": \"ulnspa_group\",\n      \"properties\": {\n        \"dtype\": \"category\",\n        \"num_unique_values\": 4,\n        \"samples\": [\n          \"q3\"\n        ],\n        \"semantic_type\": \"\",\n        \"description\": \"\"\n      }\n    }\n  ]\n}"
            }
          },
          "metadata": {},
          "execution_count": 2
        }
      ]
    },
    {
      "cell_type": "code",
      "source": [
        "df_dummies = pd.get_dummies(df, columns=['generation', 'loan_group', 'm9do_group'], drop_first=False)\n",
        "df_dummies.drop(columns=['generation_q1', 'loan_group_q1', 'm9do_group_q3'], inplace=True)\n",
        "print(df_dummies)"
      ],
      "metadata": {
        "colab": {
          "base_uri": "https://localhost:8080/"
        },
        "id": "rIiYcK377MgS",
        "outputId": "5c8d2056-5691-4c4c-9047-5acd88a97efc"
      },
      "execution_count": 3,
      "outputs": [
        {
          "output_type": "stream",
          "name": "stdout",
          "text": [
            "       user_id  number_dependents  age  last_month_salary    category  \\\n",
            "0        19807                  0   23               2500   bad_payer   \n",
            "1        29366                  0   24                620   bad_payer   \n",
            "2        35241                  0   24               2500   bad_payer   \n",
            "3         1460                  0   25               3800   bad_payer   \n",
            "4         2554                  0   25                974   bad_payer   \n",
            "...        ...                ...  ...                ...         ...   \n",
            "32581    31651                  8   63                905  good_payer   \n",
            "32582    12123                  9   37               3300  good_payer   \n",
            "32583    34884                  9   48              11400  good_payer   \n",
            "32584    14692                 10   47               9166  good_payer   \n",
            "32585    15517                 13   53               3333  good_payer   \n",
            "\n",
            "       default_flag  more_90_days_overdue  \\\n",
            "0                 1                     1   \n",
            "1                 1                     1   \n",
            "2                 1                     1   \n",
            "3                 1                     1   \n",
            "4                 1                     1   \n",
            "...             ...                   ...   \n",
            "32581             0                     0   \n",
            "32582             0                     1   \n",
            "32583             0                     0   \n",
            "32584             0                     0   \n",
            "32585             0                     1   \n",
            "\n",
            "       using_lines_not_secured_personal_assets  \\\n",
            "0                                     1.155528   \n",
            "1                                     1.245902   \n",
            "2                                     1.000000   \n",
            "3                                     1.057648   \n",
            "4                                     2.638723   \n",
            "...                                        ...   \n",
            "32581                                 1.000000   \n",
            "32582                                 0.494849   \n",
            "32583                                 0.127706   \n",
            "32584                                 0.017858   \n",
            "32585                                 1.000000   \n",
            "\n",
            "       number_times_delayed_payment_loan_30_59_days  debt_ratio  ...  \\\n",
            "0                                                 1  687.000000  ...   \n",
            "1                                                 1    0.935588  ...   \n",
            "2                                                 1  286.000000  ...   \n",
            "3                                                 1    0.102605  ...   \n",
            "4                                                 1    0.521026  ...   \n",
            "...                                             ...         ...  ...   \n",
            "32581                                             0    0.546358  ...   \n",
            "32582                                             0    0.268706  ...   \n",
            "32583                                             0    0.290238  ...   \n",
            "32584                                             1    0.368932  ...   \n",
            "32585                                             1    0.230054  ...   \n",
            "\n",
            "       generation_q2  generation_q3  generation_q4  loan_group_q2  \\\n",
            "0              False          False          False          False   \n",
            "1              False          False          False          False   \n",
            "2              False          False          False          False   \n",
            "3              False          False          False          False   \n",
            "4              False          False          False          False   \n",
            "...              ...            ...            ...            ...   \n",
            "32581          False          False           True          False   \n",
            "32582          False          False          False           True   \n",
            "32583           True          False          False          False   \n",
            "32584           True          False          False           True   \n",
            "32585          False           True          False          False   \n",
            "\n",
            "      loan_group_q3 loan_group_q4  m9do_group_other  m9do_group_q1  \\\n",
            "0             False         False             False          False   \n",
            "1             False         False             False          False   \n",
            "2             False         False             False          False   \n",
            "3             False         False             False          False   \n",
            "4             False         False             False          False   \n",
            "...             ...           ...               ...            ...   \n",
            "32581         False         False             False           True   \n",
            "32582         False         False             False          False   \n",
            "32583          True         False             False           True   \n",
            "32584         False         False             False           True   \n",
            "32585         False         False             False          False   \n",
            "\n",
            "       m9do_group_q2  m9do_group_q4  \n",
            "0               True          False  \n",
            "1               True          False  \n",
            "2               True          False  \n",
            "3               True          False  \n",
            "4               True          False  \n",
            "...              ...            ...  \n",
            "32581          False          False  \n",
            "32582           True          False  \n",
            "32583          False          False  \n",
            "32584          False          False  \n",
            "32585           True          False  \n",
            "\n",
            "[32586 rows x 26 columns]\n"
          ]
        }
      ]
    },
    {
      "cell_type": "code",
      "source": [
        "# Definir los pesos para cada dummy (excluyendo las categorías de referencia)\n",
        "# de prueba, los pesos no tienen relación con algún análisis hecho previamente\n",
        "weights = {\n",
        "    'generation_q2': 0.4,\n",
        "    'generation_q3': 0.3,\n",
        "    'generation_q4': 0.2,\n",
        "    'loan_group_q2': 0.4,\n",
        "    'loan_group_q3': 0.3,\n",
        "    'loan_group_q4': 0.2,\n",
        "    'm9do_group_q1': 0.2,\n",
        "    'm9do_group_q2': 0.4,\n",
        "    'm9do_group_q4': 0.3\n",
        "}\n",
        "\n",
        "# Calcular el score\n",
        "df_dummies['score'] = (\n",
        "    df_dummies['generation_q2'] * weights['generation_q2'] +\n",
        "    df_dummies['generation_q3'] * weights['generation_q3'] +\n",
        "    df_dummies['generation_q4'] * weights['generation_q4'] +\n",
        "    df_dummies['loan_group_q2'] * weights['loan_group_q2'] +\n",
        "    df_dummies['loan_group_q3'] * weights['loan_group_q3'] +\n",
        "    df_dummies['loan_group_q4'] * weights['loan_group_q4'] +\n",
        "    df_dummies['m9do_group_q1'] * weights['m9do_group_q1'] +\n",
        "    df_dummies['m9do_group_q2'] * weights['m9do_group_q2'] +\n",
        "    df_dummies['m9do_group_q4'] * weights['m9do_group_q4']\n",
        ")\n",
        "\n",
        "print(df_dummies[['score'] + list(weights.keys())])\n"
      ],
      "metadata": {
        "colab": {
          "base_uri": "https://localhost:8080/"
        },
        "id": "fK2MeknpgSpo",
        "outputId": "57dd0110-f516-4411-b491-7ab9f7478882"
      },
      "execution_count": 7,
      "outputs": [
        {
          "output_type": "stream",
          "name": "stdout",
          "text": [
            "       score  generation_q2  generation_q3  generation_q4  loan_group_q2  \\\n",
            "0        0.4          False          False          False          False   \n",
            "1        0.4          False          False          False          False   \n",
            "2        0.4          False          False          False          False   \n",
            "3        0.4          False          False          False          False   \n",
            "4        0.4          False          False          False          False   \n",
            "...      ...            ...            ...            ...            ...   \n",
            "32581    0.4          False          False           True          False   \n",
            "32582    0.8          False          False          False           True   \n",
            "32583    0.9           True          False          False          False   \n",
            "32584    1.0           True          False          False           True   \n",
            "32585    0.7          False           True          False          False   \n",
            "\n",
            "       loan_group_q3  loan_group_q4  m9do_group_q1  m9do_group_q2  \\\n",
            "0              False          False          False           True   \n",
            "1              False          False          False           True   \n",
            "2              False          False          False           True   \n",
            "3              False          False          False           True   \n",
            "4              False          False          False           True   \n",
            "...              ...            ...            ...            ...   \n",
            "32581          False          False           True          False   \n",
            "32582          False          False          False           True   \n",
            "32583           True          False           True          False   \n",
            "32584          False          False           True          False   \n",
            "32585          False          False          False           True   \n",
            "\n",
            "       m9do_group_q4  \n",
            "0              False  \n",
            "1              False  \n",
            "2              False  \n",
            "3              False  \n",
            "4              False  \n",
            "...              ...  \n",
            "32581          False  \n",
            "32582          False  \n",
            "32583          False  \n",
            "32584          False  \n",
            "32585          False  \n",
            "\n",
            "[32586 rows x 10 columns]\n"
          ]
        }
      ]
    },
    {
      "cell_type": "code",
      "source": [
        "# Uso de prueba de la mediana como umbral de score\n",
        "threshold = df_dummies['score'].median()\n",
        "\n",
        "\n",
        "df_dummies['predicted_default'] = np.where(df_dummies['score'] > threshold, 1, 0)\n"
      ],
      "metadata": {
        "id": "xxTYXj95luFB"
      },
      "execution_count": 8,
      "outputs": []
    },
    {
      "cell_type": "code",
      "source": [
        "from sklearn.metrics import confusion_matrix, ConfusionMatrixDisplay\n",
        "\n",
        "\n",
        "df_dummies['true_default'] = df['default_flag']\n",
        "\n",
        "# matriz de confusión\n",
        "cm = confusion_matrix(df_dummies['true_default'], df_dummies['predicted_default'], labels=[1, 0])\n",
        "\n",
        "# Mostrar la matriz de confusión\n",
        "disp = ConfusionMatrixDisplay(confusion_matrix=cm, display_labels=['mal pagador (1)', 'buen pagador (0)'])\n",
        "disp.plot(cmap=\"Blues\")\n"
      ],
      "metadata": {
        "colab": {
          "base_uri": "https://localhost:8080/",
          "height": 471
        },
        "id": "zdPhHBf9mtql",
        "outputId": "69469336-565b-44ff-adb0-2c366107fb75"
      },
      "execution_count": 9,
      "outputs": [
        {
          "output_type": "execute_result",
          "data": {
            "text/plain": [
              "<sklearn.metrics._plot.confusion_matrix.ConfusionMatrixDisplay at 0x79447b3e30d0>"
            ]
          },
          "metadata": {},
          "execution_count": 9
        },
        {
          "output_type": "display_data",
          "data": {
            "text/plain": [
              "<Figure size 640x480 with 2 Axes>"
            ],
            "image/png": "[encoded data removed]"
          },
          "metadata": {}
        }
      ]
    },
    {
      "cell_type": "code",
      "source": [
        "# Matriz de prueba\n",
        "from sklearn.metrics import classification_report\n",
        "\n",
        "print(classification_report(df_dummies['true_default'], df_dummies['predicted_default'], target_names=['buen pagador (0)', 'mal pagador (1)']))\n"
      ],
      "metadata": {
        "id": "FFZCtSUNm-4h",
        "outputId": "95c0ee43-666b-4e3e-9ba2-61bff64ff496",
        "colab": {
          "base_uri": "https://localhost:8080/"
        }
      },
      "execution_count": 10,
      "outputs": [
        {
          "output_type": "stream",
          "name": "stdout",
          "text": [
            "                  precision    recall  f1-score   support\n",
            "\n",
            "buen pagador (0)       0.98      0.70      0.82     31998\n",
            " mal pagador (1)       0.02      0.26      0.03       588\n",
            "\n",
            "        accuracy                           0.70     32586\n",
            "       macro avg       0.50      0.48      0.43     32586\n",
            "    weighted avg       0.96      0.70      0.81     32586\n",
            "\n"
          ]
        }
      ]
    },
    {
      "cell_type": "markdown",
      "source": [
        "# Hito 2\n",
        "*5 variables consideradas para el score*\n"
      ],
      "metadata": {
        "id": "nZQm1THGEuYa"
      }
    },
    {
      "cell_type": "code",
      "source": [
        "# Nueva definición de dummies con niveles de referencia conocidos (grupos de variables con alto riesgo relativo calculado)\n",
        "df_dummies = pd.get_dummies(df, columns=['generation', 'loan_group', 'm9do_group', 'dr_group', 'ulnspa_group'], drop_first=False)\n",
        "df_dummies.drop(columns=['generation_q1', 'loan_group_q1', 'm9do_group_q3', 'dr_group_q3', 'ulnspa_group_q4'], inplace=True)\n",
        "print(df_dummies)"
      ],
      "metadata": {
        "colab": {
          "base_uri": "https://localhost:8080/"
        },
        "id": "nEYH0MP4EYWd",
        "outputId": "87afa1d0-cba9-45ca-82d4-01943c9c6857"
      },
      "execution_count": 13,
      "outputs": [
        {
          "output_type": "stream",
          "name": "stdout",
          "text": [
            "       user_id  number_dependents  age  last_month_salary    category  \\\n",
            "0        19807                  0   23               2500   bad_payer   \n",
            "1        29366                  0   24                620   bad_payer   \n",
            "2        35241                  0   24               2500   bad_payer   \n",
            "3         1460                  0   25               3800   bad_payer   \n",
            "4         2554                  0   25                974   bad_payer   \n",
            "...        ...                ...  ...                ...         ...   \n",
            "32581    31651                  8   63                905  good_payer   \n",
            "32582    12123                  9   37               3300  good_payer   \n",
            "32583    34884                  9   48              11400  good_payer   \n",
            "32584    14692                 10   47               9166  good_payer   \n",
            "32585    15517                 13   53               3333  good_payer   \n",
            "\n",
            "       default_flag  more_90_days_overdue  \\\n",
            "0                 1                     1   \n",
            "1                 1                     1   \n",
            "2                 1                     1   \n",
            "3                 1                     1   \n",
            "4                 1                     1   \n",
            "...             ...                   ...   \n",
            "32581             0                     0   \n",
            "32582             0                     1   \n",
            "32583             0                     0   \n",
            "32584             0                     0   \n",
            "32585             0                     1   \n",
            "\n",
            "       using_lines_not_secured_personal_assets  \\\n",
            "0                                     1.155528   \n",
            "1                                     1.245902   \n",
            "2                                     1.000000   \n",
            "3                                     1.057648   \n",
            "4                                     2.638723   \n",
            "...                                        ...   \n",
            "32581                                 1.000000   \n",
            "32582                                 0.494849   \n",
            "32583                                 0.127706   \n",
            "32584                                 0.017858   \n",
            "32585                                 1.000000   \n",
            "\n",
            "       number_times_delayed_payment_loan_30_59_days  debt_ratio  ...  \\\n",
            "0                                                 1  687.000000  ...   \n",
            "1                                                 1    0.935588  ...   \n",
            "2                                                 1  286.000000  ...   \n",
            "3                                                 1    0.102605  ...   \n",
            "4                                                 1    0.521026  ...   \n",
            "...                                             ...         ...  ...   \n",
            "32581                                             0    0.546358  ...   \n",
            "32582                                             0    0.268706  ...   \n",
            "32583                                             0    0.290238  ...   \n",
            "32584                                             1    0.368932  ...   \n",
            "32585                                             1    0.230054  ...   \n",
            "\n",
            "       m9do_group_other  m9do_group_q1  m9do_group_q2  m9do_group_q4  \\\n",
            "0                 False          False           True          False   \n",
            "1                 False          False           True          False   \n",
            "2                 False          False           True          False   \n",
            "3                 False          False           True          False   \n",
            "4                 False          False           True          False   \n",
            "...                 ...            ...            ...            ...   \n",
            "32581             False           True          False          False   \n",
            "32582             False          False           True          False   \n",
            "32583             False           True          False          False   \n",
            "32584             False           True          False          False   \n",
            "32585             False          False           True          False   \n",
            "\n",
            "       dr_group_q1  dr_group_q2  dr_group_q4  ulnspa_group_q1  \\\n",
            "0            False        False         True            False   \n",
            "1            False        False        False            False   \n",
            "2            False        False         True            False   \n",
            "3             True        False        False            False   \n",
            "4            False        False        False            False   \n",
            "...            ...          ...          ...              ...   \n",
            "32581        False        False        False            False   \n",
            "32582        False         True        False            False   \n",
            "32583        False         True        False            False   \n",
            "32584        False         True        False             True   \n",
            "32585        False         True        False            False   \n",
            "\n",
            "       ulnspa_group_q2  ulnspa_group_q3  \n",
            "0                False            False  \n",
            "1                False            False  \n",
            "2                False            False  \n",
            "3                False            False  \n",
            "4                False            False  \n",
            "...                ...              ...  \n",
            "32581            False            False  \n",
            "32582            False             True  \n",
            "32583             True            False  \n",
            "32584            False            False  \n",
            "32585            False            False  \n",
            "\n",
            "[32586 rows x 30 columns]\n"
          ]
        }
      ]
    },
    {
      "cell_type": "code",
      "source": [
        "# Pesos definidos en función de su nivel de riesgo relativo calculado\n",
        "weights = {\n",
        "    'generation_q2': 0.5,\n",
        "    'generation_q3': 0,\n",
        "    'generation_q4': 0,\n",
        "    'loan_group_q2': 0.2,\n",
        "    'loan_group_q3': 0,\n",
        "    'loan_group_q4': 0,\n",
        "    'm9do_group_q1': 0,\n",
        "    'm9do_group_q2': 2,\n",
        "    'm9do_group_q4': 1,\n",
        "    'dr_group_q1': 0,\n",
        "    'dr_group_q2': 0,\n",
        "    'dr_group_q4':0.2,\n",
        "    'ulnspa_group_q1': 0,\n",
        "    'ulnspa_group_q2': 0,\n",
        "    'ulnspa_group_q3':0\n",
        "}\n",
        "\n",
        "# Score\n",
        "df_dummies['score'] = (\n",
        "    df_dummies['generation_q2'] * weights['generation_q2'] +\n",
        "    df_dummies['generation_q3'] * weights['generation_q3'] +\n",
        "    df_dummies['generation_q4'] * weights['generation_q4'] +\n",
        "    df_dummies['loan_group_q2'] * weights['loan_group_q2'] +\n",
        "    df_dummies['loan_group_q3'] * weights['loan_group_q3'] +\n",
        "    df_dummies['loan_group_q4'] * weights['loan_group_q4'] +\n",
        "    df_dummies['m9do_group_q1'] * weights['m9do_group_q1'] +\n",
        "    df_dummies['m9do_group_q2'] * weights['m9do_group_q2'] +\n",
        "    df_dummies['m9do_group_q4'] * weights['m9do_group_q4']+\n",
        "    df_dummies['dr_group_q1'] * weights['dr_group_q1']+\n",
        "    df_dummies['dr_group_q2'] * weights['dr_group_q2']+\n",
        "    df_dummies['dr_group_q4'] * weights['dr_group_q4']+\n",
        "    df_dummies['ulnspa_group_q1'] * weights['ulnspa_group_q1']+\n",
        "    df_dummies['ulnspa_group_q2'] * weights['ulnspa_group_q2']+\n",
        "    df_dummies['ulnspa_group_q3'] * weights['ulnspa_group_q3']\n",
        ")\n",
        "\n",
        "print(df_dummies[['score'] + list(weights.keys())])\n"
      ],
      "metadata": {
        "colab": {
          "base_uri": "https://localhost:8080/"
        },
        "id": "6MW89exIEz18",
        "outputId": "63380d75-9cf4-4325-9cd4-fd1ce3b68bb7"
      },
      "execution_count": 14,
      "outputs": [
        {
          "output_type": "stream",
          "name": "stdout",
          "text": [
            "       score  generation_q2  generation_q3  generation_q4  loan_group_q2  \\\n",
            "0        2.2          False          False          False          False   \n",
            "1        2.0          False          False          False          False   \n",
            "2        2.2          False          False          False          False   \n",
            "3        2.0          False          False          False          False   \n",
            "4        2.0          False          False          False          False   \n",
            "...      ...            ...            ...            ...            ...   \n",
            "32581    0.0          False          False           True          False   \n",
            "32582    2.2          False          False          False           True   \n",
            "32583    0.5           True          False          False          False   \n",
            "32584    0.7           True          False          False           True   \n",
            "32585    2.0          False           True          False          False   \n",
            "\n",
            "       loan_group_q3  loan_group_q4  m9do_group_q1  m9do_group_q2  \\\n",
            "0              False          False          False           True   \n",
            "1              False          False          False           True   \n",
            "2              False          False          False           True   \n",
            "3              False          False          False           True   \n",
            "4              False          False          False           True   \n",
            "...              ...            ...            ...            ...   \n",
            "32581          False          False           True          False   \n",
            "32582          False          False          False           True   \n",
            "32583           True          False           True          False   \n",
            "32584          False          False           True          False   \n",
            "32585          False          False          False           True   \n",
            "\n",
            "       m9do_group_q4  dr_group_q1  dr_group_q2  dr_group_q4  ulnspa_group_q1  \\\n",
            "0              False        False        False         True            False   \n",
            "1              False        False        False        False            False   \n",
            "2              False        False        False         True            False   \n",
            "3              False         True        False        False            False   \n",
            "4              False        False        False        False            False   \n",
            "...              ...          ...          ...          ...              ...   \n",
            "32581          False        False        False        False            False   \n",
            "32582          False        False         True        False            False   \n",
            "32583          False        False         True        False            False   \n",
            "32584          False        False         True        False             True   \n",
            "32585          False        False         True        False            False   \n",
            "\n",
            "       ulnspa_group_q2  ulnspa_group_q3  \n",
            "0                False            False  \n",
            "1                False            False  \n",
            "2                False            False  \n",
            "3                False            False  \n",
            "4                False            False  \n",
            "...                ...              ...  \n",
            "32581            False            False  \n",
            "32582            False             True  \n",
            "32583             True            False  \n",
            "32584            False            False  \n",
            "32585            False            False  \n",
            "\n",
            "[32586 rows x 16 columns]\n"
          ]
        }
      ]
    },
    {
      "cell_type": "code",
      "source": [
        "# Nuevo umbral\n",
        "threshold = 1.0\n",
        "\n",
        "# Crear una nueva columna para la clasificación basada en el score\n",
        "df_dummies['predicted_default'] = np.where(df_dummies['score'] > threshold, 1, 0)\n"
      ],
      "metadata": {
        "id": "hJbxPNiEGT1q"
      },
      "execution_count": 15,
      "outputs": []
    },
    {
      "cell_type": "code",
      "source": [
        "from sklearn.metrics import confusion_matrix, ConfusionMatrixDisplay\n",
        "\n",
        "\n",
        "df_dummies['true_default'] = df['default_flag']\n",
        "\n",
        "# matriz de confusión\n",
        "cm = confusion_matrix(df_dummies['true_default'], df_dummies['predicted_default'], labels=[1, 0])\n",
        "\n",
        "# Mostrar la matriz de confusión\n",
        "disp = ConfusionMatrixDisplay(confusion_matrix=cm, display_labels=['mal pagador (1)', 'buen pagador (0)'])\n",
        "disp.plot(cmap=\"Blues\")\n"
      ],
      "metadata": {
        "id": "-X9xwXLcGX1O",
        "outputId": "7f1f6576-94b8-46fa-b8f1-62395cf0a38e",
        "colab": {
          "base_uri": "https://localhost:8080/",
          "height": 466
        }
      },
      "execution_count": 16,
      "outputs": [
        {
          "output_type": "execute_result",
          "data": {
            "text/plain": [
              "<sklearn.metrics._plot.confusion_matrix.ConfusionMatrixDisplay at 0x794473a4fd90>"
            ]
          },
          "metadata": {},
          "execution_count": 16
        },
        {
          "output_type": "display_data",
          "data": {
            "text/plain": [
              "<Figure size 640x480 with 2 Axes>"
            ],
            "image/png": "[encoded data removed]"
          },
          "metadata": {}
        }
      ]
    },
    {
      "cell_type": "code",
      "source": [
        "from sklearn.metrics import classification_report\n",
        "\n",
        "print(classification_report(df_dummies['true_default'], df_dummies['predicted_default'], target_names=['buen pagador (0)', 'mal pagador (1)']))\n"
      ],
      "metadata": {
        "id": "aJOD4GHKGfW5",
        "outputId": "6af61f52-75ad-45c5-9f7b-dac9bbe9262d",
        "colab": {
          "base_uri": "https://localhost:8080/"
        }
      },
      "execution_count": null,
      "outputs": [
        {
          "output_type": "stream",
          "name": "stdout",
          "text": [
            "                  precision    recall  f1-score   support\n",
            "\n",
            "buen pagador (0)       0.99      0.97      0.98     31998\n",
            " mal pagador (1)       0.25      0.54      0.34       588\n",
            "\n",
            "        accuracy                           0.96     32586\n",
            "       macro avg       0.62      0.75      0.66     32586\n",
            "    weighted avg       0.98      0.96      0.97     32586\n",
            "\n"
          ]
        }
      ]
    },
    {
      "cell_type": "markdown",
      "source": [
        "# Ajuste del modelo con regresión lineal"
      ],
      "metadata": {
        "id": "qrU0bq1nRAQG"
      }
    },
    {
      "cell_type": "code",
      "source": [
        "import seaborn as sns\n",
        "import matplotlib.pyplot as plt\n",
        "from sklearn.metrics import confusion_matrix\n",
        "from sklearn.model_selection import train_test_split\n",
        "from sklearn.linear_model import LogisticRegression\n",
        "from sklearn.metrics import confusion_matrix, classification_report\n",
        "\n",
        "\n"
      ],
      "metadata": {
        "id": "7T6nCZeIRAt5"
      },
      "execution_count": 17,
      "outputs": []
    },
    {
      "cell_type": "code",
      "source": [
        "\n",
        "# Separar las variables independientes (X) de la variable dependiente (y)\n",
        "X = df_dummies.drop(columns=['default_flag', 'predicted_default'])\n",
        "y = df_dummies['default_flag']\n",
        "\n"
      ],
      "metadata": {
        "id": "J0zeGLf7hLf4"
      },
      "execution_count": 18,
      "outputs": []
    },
    {
      "cell_type": "code",
      "source": [
        "# Verificar tipos de datos en X\n",
        "print(X.dtypes)\n",
        "\n",
        "# Ver si hay columnas que siguen siendo de tipo object o string\n",
        "non_numeric_columns = X.select_dtypes(include=['object']).columns\n",
        "print(non_numeric_columns)\n",
        "\n",
        "# Convertir a dummies si fuera necesario\n",
        "if len(non_numeric_columns) > 0:\n",
        "    X = pd.get_dummies(X, columns=non_numeric_columns)"
      ],
      "metadata": {
        "colab": {
          "base_uri": "https://localhost:8080/"
        },
        "id": "gUS21iRHSPSb",
        "outputId": "3b4f35e3-f3d4-442f-9892-865c436218b9"
      },
      "execution_count": 21,
      "outputs": [
        {
          "output_type": "stream",
          "name": "stdout",
          "text": [
            "user_id                                           Int64\n",
            "number_dependents                                 Int64\n",
            "age                                               Int64\n",
            "last_month_salary                                 Int64\n",
            "more_90_days_overdue                              Int64\n",
            "using_lines_not_secured_personal_assets         float64\n",
            "number_times_delayed_payment_loan_30_59_days      Int64\n",
            "debt_ratio                                      float64\n",
            "number_times_delayed_payment_loan_60_89_days      Int64\n",
            "loan_count                                        Int64\n",
            "real_estate                                       Int64\n",
            "others                                            Int64\n",
            "generation_q2                                      bool\n",
            "generation_q3                                      bool\n",
            "generation_q4                                      bool\n",
            "loan_group_q2                                      bool\n",
            "loan_group_q3                                      bool\n",
            "loan_group_q4                                      bool\n",
            "m9do_group_other                                   bool\n",
            "m9do_group_q1                                      bool\n",
            "m9do_group_q2                                      bool\n",
            "m9do_group_q4                                      bool\n",
            "dr_group_q1                                        bool\n",
            "dr_group_q2                                        bool\n",
            "dr_group_q4                                        bool\n",
            "ulnspa_group_q1                                    bool\n",
            "ulnspa_group_q2                                    bool\n",
            "ulnspa_group_q3                                    bool\n",
            "score                                           float64\n",
            "true_default                                      Int64\n",
            "category_bad_payer                                 bool\n",
            "category_good_payer                                bool\n",
            "dtype: object\n",
            "Index([], dtype='object')\n"
          ]
        }
      ]
    },
    {
      "cell_type": "code",
      "source": [
        "# Revisar si hay valores faltantes o nulos\n",
        "print(X.isnull().sum())\n",
        "\n",
        "# rellenar nulos con 0\n",
        "X.fillna(0, inplace=True)\n"
      ],
      "metadata": {
        "colab": {
          "base_uri": "https://localhost:8080/"
        },
        "id": "YBLk6VK-TEAB",
        "outputId": "9cb017c5-5aab-40b0-da47-5213d66d9704"
      },
      "execution_count": 22,
      "outputs": [
        {
          "output_type": "stream",
          "name": "stdout",
          "text": [
            "user_id                                         0\n",
            "number_dependents                               0\n",
            "age                                             0\n",
            "last_month_salary                               0\n",
            "more_90_days_overdue                            0\n",
            "using_lines_not_secured_personal_assets         0\n",
            "number_times_delayed_payment_loan_30_59_days    0\n",
            "debt_ratio                                      0\n",
            "number_times_delayed_payment_loan_60_89_days    0\n",
            "loan_count                                      0\n",
            "real_estate                                     0\n",
            "others                                          0\n",
            "generation_q2                                   0\n",
            "generation_q3                                   0\n",
            "generation_q4                                   0\n",
            "loan_group_q2                                   0\n",
            "loan_group_q3                                   0\n",
            "loan_group_q4                                   0\n",
            "m9do_group_other                                0\n",
            "m9do_group_q1                                   0\n",
            "m9do_group_q2                                   0\n",
            "m9do_group_q4                                   0\n",
            "dr_group_q1                                     0\n",
            "dr_group_q2                                     0\n",
            "dr_group_q4                                     0\n",
            "ulnspa_group_q1                                 0\n",
            "ulnspa_group_q2                                 0\n",
            "ulnspa_group_q3                                 0\n",
            "score                                           0\n",
            "true_default                                    0\n",
            "category_bad_payer                              0\n",
            "category_good_payer                             0\n",
            "dtype: int64\n"
          ]
        }
      ]
    },
    {
      "cell_type": "code",
      "source": [
        "# Dividir los datos en conjuntos de entrenamiento y prueba\n",
        "X_train, X_test, y_train, y_test = train_test_split(X, y, test_size=0.3, random_state=42)\n",
        "\n",
        "# Revisar las dimensiones para asegurar que todo esté correcto\n",
        "print(X_train.shape, X_test.shape, y_train.shape, y_test.shape)\n"
      ],
      "metadata": {
        "colab": {
          "base_uri": "https://localhost:8080/"
        },
        "id": "h9LXFv-7hmRc",
        "outputId": "87a82ec3-7b3c-4377-ee71-e9773985105f"
      },
      "execution_count": 23,
      "outputs": [
        {
          "output_type": "stream",
          "name": "stdout",
          "text": [
            "(22810, 32) (9776, 32) (22810,) (9776,)\n"
          ]
        }
      ]
    },
    {
      "cell_type": "code",
      "source": [
        "# Crear el modelo de regresión logística\n",
        "model = LogisticRegression()\n",
        "\n",
        "# Entrenar el modelo\n",
        "model.fit(X_train, y_train)\n",
        "\n",
        "# Predecir los valores del conjunto de prueba\n",
        "y_pred = model.predict(X_test)\n"
      ],
      "metadata": {
        "colab": {
          "base_uri": "https://localhost:8080/"
        },
        "id": "THNpxnrMTr8r",
        "outputId": "d8b8a49a-081c-43a7-dac9-3af5fd0c123f"
      },
      "execution_count": 24,
      "outputs": [
        {
          "output_type": "stream",
          "name": "stderr",
          "text": [
            "/usr/local/lib/python3.10/dist-packages/sklearn/linear_model/_logistic.py:460: ConvergenceWarning: lbfgs failed to converge (status=1):\n",
            "STOP: TOTAL NO. of ITERATIONS REACHED LIMIT.\n",
            "\n",
            "Increase the number of iterations (max_iter) or scale the data as shown in:\n",
            "    https://scikit-learn.org/stable/modules/preprocessing.html\n",
            "Please also refer to the documentation for alternative solver options:\n",
            "    https://scikit-learn.org/stable/modules/linear_model.html#logistic-regression\n",
            "  n_iter_i = _check_optimize_result(\n"
          ]
        }
      ]
    },
    {
      "cell_type": "code",
      "source": [
        "# Matriz de confusión\n",
        "conf_matrix = confusion_matrix(y_test, y_pred)\n",
        "print(\"Matriz de Confusión:\")\n",
        "print(conf_matrix)\n",
        "\n",
        "\n",
        "# Reporte de clasificación\n",
        "class_report = classification_report(y_test, y_pred, target_names=[\"buen pagador (0)\", \"mal pagador (1)\"])\n",
        "print(\"Reporte de Clasificación:\")\n",
        "print(class_report)\n"
      ],
      "metadata": {
        "colab": {
          "base_uri": "https://localhost:8080/"
        },
        "id": "0WQW-aY5TwVV",
        "outputId": "d0bb5087-7459-4487-aac5-b718c8850cb5"
      },
      "execution_count": 25,
      "outputs": [
        {
          "output_type": "stream",
          "name": "stdout",
          "text": [
            "Matriz de Confusión:\n",
            "[[9579   23]\n",
            " [  48  126]]\n",
            "Reporte de Clasificación:\n",
            "                  precision    recall  f1-score   support\n",
            "\n",
            "buen pagador (0)       1.00      1.00      1.00      9602\n",
            " mal pagador (1)       0.85      0.72      0.78       174\n",
            "\n",
            "        accuracy                           0.99      9776\n",
            "       macro avg       0.92      0.86      0.89      9776\n",
            "    weighted avg       0.99      0.99      0.99      9776\n",
            "\n"
          ]
        }
      ]
    },
    {
      "cell_type": "code",
      "source": [
        "# Crear la figura y los ejes\n",
        "plt.figure(figsize=(8, 6))\n",
        "\n",
        "# Usar seaborn para crear un mapa de calor de la matriz de confusión\n",
        "sns.heatmap(conf_matrix, annot=True, fmt=\"d\", cmap=\"Blues\", cbar=False)\n",
        "\n",
        "# Añadir títulos y etiquetas\n",
        "plt.title(\"Matriz de Confusión\")\n",
        "plt.xlabel(\"Predicción\")\n",
        "plt.ylabel(\"Valor Real\")\n",
        "\n",
        "# Añadir etiquetas en los ejes X e Y\n",
        "plt.xticks(ticks=[0.5, 1.5], labels=[\"buen pagador (0)\", \"mal pagador (1)\"])\n",
        "plt.yticks(ticks=[0.5, 1.5], labels=[\"buen pagador (0)\", \"mal pagador (1)\"], rotation=0)\n",
        "\n",
        "# Mostrar la gráfica\n",
        "plt.show()\n"
      ],
      "metadata": {
        "colab": {
          "base_uri": "https://localhost:8080/",
          "height": 564
        },
        "id": "N2kEJd2QVDsb",
        "outputId": "c10d37e0-deb4-4238-d7a6-b68f3175a966"
      },
      "execution_count": 26,
      "outputs": [
        {
          "output_type": "display_data",
          "data": {
            "text/plain": [
              "<Figure size 800x600 with 1 Axes>"
            ],
            "image/png": "[encoded data removed]"
          },
          "metadata": {}
        }
      ]
    },
    {
      "cell_type": "code",
      "source": [
        "from sklearn.linear_model import LogisticRegression\n",
        "\n",
        "# Suponiendo que X y y son tus variables independientes y dependientes para todo el dataset\n",
        "X_full = df_dummies.drop(columns=['true_default', 'category'])\n",
        "y_full = df_dummies['true_default']\n",
        "\n",
        "# Entrenar el modelo con todos los datos\n",
        "model = LogisticRegression()\n",
        "model.fit(X_full, y_full)\n"
      ],
      "metadata": {
        "colab": {
          "base_uri": "https://localhost:8080/",
          "height": 214
        },
        "id": "XTSYMblhh_jY",
        "outputId": "d7e9170e-b49d-42c6-ae97-043676e4ad7e"
      },
      "execution_count": null,
      "outputs": [
        {
          "output_type": "stream",
          "name": "stderr",
          "text": [
            "/usr/local/lib/python3.10/dist-packages/sklearn/linear_model/_logistic.py:460: ConvergenceWarning: lbfgs failed to converge (status=1):\n",
            "STOP: TOTAL NO. of ITERATIONS REACHED LIMIT.\n",
            "\n",
            "Increase the number of iterations (max_iter) or scale the data as shown in:\n",
            "    https://scikit-learn.org/stable/modules/preprocessing.html\n",
            "Please also refer to the documentation for alternative solver options:\n",
            "    https://scikit-learn.org/stable/modules/linear_model.html#logistic-regression\n",
            "  n_iter_i = _check_optimize_result(\n"
          ]
        },
        {
          "output_type": "execute_result",
          "data": {
            "text/plain": [
              "LogisticRegression()"
            ],
            "text/html": [
              "<style>#sk-container-id-3 {color: black;}#sk-container-id-3 pre{padding: 0;}#sk-container-id-3 div.sk-toggleable {background-color: white;}#sk-container-id-3 label.sk-toggleable__label {cursor: pointer;display: block;width: 100%;margin-bottom: 0;padding: 0.3em;box-sizing: border-box;text-align: center;}#sk-container-id-3 label.sk-toggleable__label-arrow:before {content: \"▸\";float: left;margin-right: 0.25em;color: #696969;}#sk-container-id-3 label.sk-toggleable__label-arrow:hover:before {color: black;}#sk-container-id-3 div.sk-estimator:hover label.sk-toggleable__label-arrow:before {color: black;}#sk-container-id-3 div.sk-toggleable__content {max-height: 0;max-width: 0;overflow: hidden;text-align: left;background-color: #f0f8ff;}#sk-container-id-3 div.sk-toggleable__content pre {margin: 0.2em;color: black;border-radius: 0.25em;background-color: #f0f8ff;}#sk-container-id-3 input.sk-toggleable__control:checked~div.sk-toggleable__content {max-height: 200px;max-width: 100%;overflow: auto;}#sk-container-id-3 input.sk-toggleable__control:checked~label.sk-toggleable__label-arrow:before {content: \"▾\";}#sk-container-id-3 div.sk-estimator input.sk-toggleable__control:checked~label.sk-toggleable__label {background-color: #d4ebff;}#sk-container-id-3 div.sk-label input.sk-toggleable__control:checked~label.sk-toggleable__label {background-color: #d4ebff;}#sk-container-id-3 input.sk-hidden--visually {border: 0;clip: rect(1px 1px 1px 1px);clip: rect(1px, 1px, 1px, 1px);height: 1px;margin: -1px;overflow: hidden;padding: 0;position: absolute;width: 1px;}#sk-container-id-3 div.sk-estimator {font-family: monospace;background-color: #f0f8ff;border: 1px dotted black;border-radius: 0.25em;box-sizing: border-box;margin-bottom: 0.5em;}#sk-container-id-3 div.sk-estimator:hover {background-color: #d4ebff;}#sk-container-id-3 div.sk-parallel-item::after {content: \"\";width: 100%;border-bottom: 1px solid gray;flex-grow: 1;}#sk-container-id-3 div.sk-label:hover label.sk-toggleable__label {background-color: #d4ebff;}#sk-container-id-3 div.sk-serial::before {content: \"\";position: absolute;border-left: 1px solid gray;box-sizing: border-box;top: 0;bottom: 0;left: 50%;z-index: 0;}#sk-container-id-3 div.sk-serial {display: flex;flex-direction: column;align-items: center;background-color: white;padding-right: 0.2em;padding-left: 0.2em;position: relative;}#sk-container-id-3 div.sk-item {position: relative;z-index: 1;}#sk-container-id-3 div.sk-parallel {display: flex;align-items: stretch;justify-content: center;background-color: white;position: relative;}#sk-container-id-3 div.sk-item::before, #sk-container-id-3 div.sk-parallel-item::before {content: \"\";position: absolute;border-left: 1px solid gray;box-sizing: border-box;top: 0;bottom: 0;left: 50%;z-index: -1;}#sk-container-id-3 div.sk-parallel-item {display: flex;flex-direction: column;z-index: 1;position: relative;background-color: white;}#sk-container-id-3 div.sk-parallel-item:first-child::after {align-self: flex-end;width: 50%;}#sk-container-id-3 div.sk-parallel-item:last-child::after {align-self: flex-start;width: 50%;}#sk-container-id-3 div.sk-parallel-item:only-child::after {width: 0;}#sk-container-id-3 div.sk-dashed-wrapped {border: 1px dashed gray;margin: 0 0.4em 0.5em 0.4em;box-sizing: border-box;padding-bottom: 0.4em;background-color: white;}#sk-container-id-3 div.sk-label label {font-family: monospace;font-weight: bold;display: inline-block;line-height: 1.2em;}#sk-container-id-3 div.sk-label-container {text-align: center;}#sk-container-id-3 div.sk-container {/* jupyter's `normalize.less` sets `[hidden] { display: none; }` but bootstrap.min.css set `[hidden] { display: none !important; }` so we also need the `!important` here to be able to override the default hidden behavior on the sphinx rendered scikit-learn.org. See: https://github.com/scikit-learn/scikit-learn/issues/21755 */display: inline-block !important;position: relative;}#sk-container-id-3 div.sk-text-repr-fallback {display: none;}</style><div id=\"sk-container-id-3\" class=\"sk-top-container\"><div class=\"sk-text-repr-fallback\"><pre>LogisticRegression()</pre><b>In a Jupyter environment, please rerun this cell to show the HTML representation or trust the notebook. <br />On GitHub, the HTML representation is unable to render, please try loading this page with nbviewer.org.</b></div><div class=\"sk-container\" hidden><div class=\"sk-item\"><div class=\"sk-estimator sk-toggleable\"><input class=\"sk-toggleable__control sk-hidden--visually\" id=\"sk-estimator-id-3\" type=\"checkbox\" checked><label for=\"sk-estimator-id-3\" class=\"sk-toggleable__label sk-toggleable__label-arrow\">LogisticRegression</label><div class=\"sk-toggleable__content\"><pre>LogisticRegression()</pre></div></div></div></div></div>"
            ]
          },
          "metadata": {},
          "execution_count": 175
        }
      ]
    },
    {
      "cell_type": "code",
      "source": [
        "# Predecir sobre todo el DataFrame\n",
        "df['predicted_default'] = model.predict(X_full)\n",
        "\n",
        "# Recategorizar los usuarios\n",
        "df['recategorized_default'] = df['predicted_default'].apply(lambda x: 1 if x == 1 else 0)\n",
        "\n",
        "# Verificar el DataFrame\n",
        "print(df[['predicted_default', 'recategorized_default']])\n"
      ],
      "metadata": {
        "colab": {
          "base_uri": "https://localhost:8080/"
        },
        "id": "wQrXdpHWibIy",
        "outputId": "6dd0500f-edb8-48b6-ab0c-6225ebddbcbd"
      },
      "execution_count": null,
      "outputs": [
        {
          "output_type": "stream",
          "name": "stdout",
          "text": [
            "       predicted_default  recategorized_default\n",
            "0                    1.0                      1\n",
            "1                    0.0                      0\n",
            "2                    0.0                      0\n",
            "3                    1.0                      1\n",
            "4                    0.0                      0\n",
            "...                  ...                    ...\n",
            "32581                0.0                      0\n",
            "32582                0.0                      0\n",
            "32583                0.0                      0\n",
            "32584                0.0                      0\n",
            "32585                0.0                      0\n",
            "\n",
            "[32586 rows x 2 columns]\n"
          ]
        }
      ]
    },
    {
      "cell_type": "code",
      "source": [
        "!pip install pandas-gbq\n"
      ],
      "metadata": {
        "colab": {
          "base_uri": "https://localhost:8080/"
        },
        "id": "ht-Uc1gZY6nR",
        "outputId": "d02642fb-8e74-42ef-ec17-45d0c6f87e57"
      },
      "execution_count": null,
      "outputs": [
        {
          "output_type": "stream",
          "name": "stdout",
          "text": [
            "Requirement already satisfied: pandas-gbq in /usr/local/lib/python3.10/dist-packages (0.19.2)\n",
            "Requirement already satisfied: setuptools in /usr/local/lib/python3.10/dist-packages (from pandas-gbq) (71.0.4)\n",
            "Requirement already satisfied: db-dtypes<2.0.0,>=1.0.4 in /usr/local/lib/python3.10/dist-packages (from pandas-gbq) (1.2.0)\n",
            "Requirement already satisfied: numpy>=1.16.6 in /usr/local/lib/python3.10/dist-packages (from pandas-gbq) (1.26.4)\n",
            "Requirement already satisfied: pandas>=1.1.4 in /usr/local/lib/python3.10/dist-packages (from pandas-gbq) (2.1.4)\n",
            "Requirement already satisfied: pyarrow>=3.0.0 in /usr/local/lib/python3.10/dist-packages (from pandas-gbq) (14.0.2)\n",
            "Requirement already satisfied: pydata-google-auth>=1.5.0 in /usr/local/lib/python3.10/dist-packages (from pandas-gbq) (1.8.2)\n",
            "Requirement already satisfied: google-api-core<3.0.0dev,>=2.10.2 in /usr/local/lib/python3.10/dist-packages (from pandas-gbq) (2.19.1)\n",
            "Requirement already satisfied: google-auth>=2.13.0 in /usr/local/lib/python3.10/dist-packages (from pandas-gbq) (2.27.0)\n",
            "Requirement already satisfied: google-auth-oauthlib>=0.7.0 in /usr/local/lib/python3.10/dist-packages (from pandas-gbq) (1.2.1)\n",
            "Requirement already satisfied: google-cloud-bigquery!=2.4.*,<4.0.0dev,>=3.3.5 in /usr/local/lib/python3.10/dist-packages (from pandas-gbq) (3.25.0)\n",
            "Requirement already satisfied: google-cloud-bigquery-storage<3.0.0dev,>=2.16.2 in /usr/local/lib/python3.10/dist-packages (from pandas-gbq) (2.25.0)\n",
            "Requirement already satisfied: packaging>=17.0 in /usr/local/lib/python3.10/dist-packages (from db-dtypes<2.0.0,>=1.0.4->pandas-gbq) (24.1)\n",
            "Requirement already satisfied: googleapis-common-protos<2.0.dev0,>=1.56.2 in /usr/local/lib/python3.10/dist-packages (from google-api-core<3.0.0dev,>=2.10.2->pandas-gbq) (1.63.2)\n",
            "Requirement already satisfied: protobuf!=3.20.0,!=3.20.1,!=4.21.0,!=4.21.1,!=4.21.2,!=4.21.3,!=4.21.4,!=4.21.5,<6.0.0.dev0,>=3.19.5 in /usr/local/lib/python3.10/dist-packages (from google-api-core<3.0.0dev,>=2.10.2->pandas-gbq) (3.20.3)\n",
            "Requirement already satisfied: proto-plus<2.0.0dev,>=1.22.3 in /usr/local/lib/python3.10/dist-packages (from google-api-core<3.0.0dev,>=2.10.2->pandas-gbq) (1.24.0)\n",
            "Requirement already satisfied: requests<3.0.0.dev0,>=2.18.0 in /usr/local/lib/python3.10/dist-packages (from google-api-core<3.0.0dev,>=2.10.2->pandas-gbq) (2.32.3)\n",
            "Requirement already satisfied: cachetools<6.0,>=2.0.0 in /usr/local/lib/python3.10/dist-packages (from google-auth>=2.13.0->pandas-gbq) (5.4.0)\n",
            "Requirement already satisfied: pyasn1-modules>=0.2.1 in /usr/local/lib/python3.10/dist-packages (from google-auth>=2.13.0->pandas-gbq) (0.4.0)\n",
            "Requirement already satisfied: rsa<5,>=3.1.4 in /usr/local/lib/python3.10/dist-packages (from google-auth>=2.13.0->pandas-gbq) (4.9)\n",
            "Requirement already satisfied: requests-oauthlib>=0.7.0 in /usr/local/lib/python3.10/dist-packages (from google-auth-oauthlib>=0.7.0->pandas-gbq) (1.3.1)\n",
            "Requirement already satisfied: google-cloud-core<3.0.0dev,>=1.6.0 in /usr/local/lib/python3.10/dist-packages (from google-cloud-bigquery!=2.4.*,<4.0.0dev,>=3.3.5->pandas-gbq) (2.4.1)\n",
            "Requirement already satisfied: google-resumable-media<3.0dev,>=0.6.0 in /usr/local/lib/python3.10/dist-packages (from google-cloud-bigquery!=2.4.*,<4.0.0dev,>=3.3.5->pandas-gbq) (2.7.1)\n",
            "Requirement already satisfied: python-dateutil<3.0dev,>=2.7.2 in /usr/local/lib/python3.10/dist-packages (from google-cloud-bigquery!=2.4.*,<4.0.0dev,>=3.3.5->pandas-gbq) (2.8.2)\n",
            "Requirement already satisfied: pytz>=2020.1 in /usr/local/lib/python3.10/dist-packages (from pandas>=1.1.4->pandas-gbq) (2024.1)\n",
            "Requirement already satisfied: tzdata>=2022.1 in /usr/local/lib/python3.10/dist-packages (from pandas>=1.1.4->pandas-gbq) (2024.1)\n",
            "Requirement already satisfied: grpcio<2.0dev,>=1.33.2 in /usr/local/lib/python3.10/dist-packages (from google-api-core[grpc]!=2.0.*,!=2.1.*,!=2.10.*,!=2.2.*,!=2.3.*,!=2.4.*,!=2.5.*,!=2.6.*,!=2.7.*,!=2.8.*,!=2.9.*,<3.0.0dev,>=1.34.1->google-cloud-bigquery!=2.4.*,<4.0.0dev,>=3.3.5->pandas-gbq) (1.64.1)\n",
            "Requirement already satisfied: grpcio-status<2.0.dev0,>=1.33.2 in /usr/local/lib/python3.10/dist-packages (from google-api-core[grpc]!=2.0.*,!=2.1.*,!=2.10.*,!=2.2.*,!=2.3.*,!=2.4.*,!=2.5.*,!=2.6.*,!=2.7.*,!=2.8.*,!=2.9.*,<3.0.0dev,>=1.34.1->google-cloud-bigquery!=2.4.*,<4.0.0dev,>=3.3.5->pandas-gbq) (1.48.2)\n",
            "Requirement already satisfied: google-crc32c<2.0dev,>=1.0 in /usr/local/lib/python3.10/dist-packages (from google-resumable-media<3.0dev,>=0.6.0->google-cloud-bigquery!=2.4.*,<4.0.0dev,>=3.3.5->pandas-gbq) (1.5.0)\n",
            "Requirement already satisfied: pyasn1<0.7.0,>=0.4.6 in /usr/local/lib/python3.10/dist-packages (from pyasn1-modules>=0.2.1->google-auth>=2.13.0->pandas-gbq) (0.6.0)\n",
            "Requirement already satisfied: six>=1.5 in /usr/local/lib/python3.10/dist-packages (from python-dateutil<3.0dev,>=2.7.2->google-cloud-bigquery!=2.4.*,<4.0.0dev,>=3.3.5->pandas-gbq) (1.16.0)\n",
            "Requirement already satisfied: charset-normalizer<4,>=2 in /usr/local/lib/python3.10/dist-packages (from requests<3.0.0.dev0,>=2.18.0->google-api-core<3.0.0dev,>=2.10.2->pandas-gbq) (3.3.2)\n",
            "Requirement already satisfied: idna<4,>=2.5 in /usr/local/lib/python3.10/dist-packages (from requests<3.0.0.dev0,>=2.18.0->google-api-core<3.0.0dev,>=2.10.2->pandas-gbq) (3.7)\n",
            "Requirement already satisfied: urllib3<3,>=1.21.1 in /usr/local/lib/python3.10/dist-packages (from requests<3.0.0.dev0,>=2.18.0->google-api-core<3.0.0dev,>=2.10.2->pandas-gbq) (2.0.7)\n",
            "Requirement already satisfied: certifi>=2017.4.17 in /usr/local/lib/python3.10/dist-packages (from requests<3.0.0.dev0,>=2.18.0->google-api-core<3.0.0dev,>=2.10.2->pandas-gbq) (2024.7.4)\n",
            "Requirement already satisfied: oauthlib>=3.0.0 in /usr/local/lib/python3.10/dist-packages (from requests-oauthlib>=0.7.0->google-auth-oauthlib>=0.7.0->pandas-gbq) (3.2.2)\n"
          ]
        }
      ]
    },
    {
      "cell_type": "code",
      "source": [
        "from google.colab import auth\n",
        "auth.authenticate_user()\n"
      ],
      "metadata": {
        "id": "hntl6uFpY9CF"
      },
      "execution_count": null,
      "outputs": []
    },
    {
      "cell_type": "code",
      "source": [
        "from google.cloud import bigquery\n",
        "import pandas_gbq\n",
        "\n",
        "# Configurar tu ID de proyecto en Google Cloud\n",
        "project_id = \"saltoproyecto3\"\n",
        "\n",
        "# Nombre de la tabla a crear en BigQuery\n",
        "table_id = \"saltoproyecto3.riesgorelativo.combined_view_2\"\n",
        "\n",
        "# Subir el DataFrame a BigQuery\n",
        "pandas_gbq.to_gbq(df, table_id, project_id=project_id, if_exists='replace')\n"
      ],
      "metadata": {
        "colab": {
          "base_uri": "https://localhost:8080/"
        },
        "id": "idK2YL3QY_uI",
        "outputId": "5509243a-7d04-4ef7-8bc5-70630528bd8f"
      },
      "execution_count": null,
      "outputs": [
        {
          "output_type": "stream",
          "name": "stderr",
          "text": [
            "100%|██████████| 1/1 [00:00<00:00, 3066.01it/s]\n"
          ]
        }
      ]
    }
  ]
}